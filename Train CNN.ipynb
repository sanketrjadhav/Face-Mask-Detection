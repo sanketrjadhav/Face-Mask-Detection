{
 "cells": [
  {
   "cell_type": "markdown",
   "metadata": {},
   "source": [
    "# Importing Libraries"
   ]
  },
  {
   "cell_type": "code",
   "execution_count": 1,
   "metadata": {},
   "outputs": [],
   "source": [
    "from keras.models import Sequential\n",
    "from keras.layers import Convolution2D,MaxPooling2D,Flatten,Dense\n",
    "import warnings\n",
    "warnings.filterwarnings(\"ignore\")"
   ]
  },
  {
   "cell_type": "markdown",
   "metadata": {},
   "source": [
    "# Initializing the CNN"
   ]
  },
  {
   "cell_type": "code",
   "execution_count": 2,
   "metadata": {},
   "outputs": [
    {
     "name": "stdout",
     "output_type": "stream",
     "text": [
      "Model: \"sequential\"\n",
      "_________________________________________________________________\n",
      "Layer (type)                 Output Shape              Param #   \n",
      "=================================================================\n",
      "conv2d (Conv2D)              (None, 21, 21, 32)        896       \n",
      "_________________________________________________________________\n",
      "max_pooling2d (MaxPooling2D) (None, 10, 10, 32)        0         \n",
      "_________________________________________________________________\n",
      "conv2d_1 (Conv2D)            (None, 3, 3, 32)          9248      \n",
      "_________________________________________________________________\n",
      "max_pooling2d_1 (MaxPooling2 (None, 1, 1, 32)          0         \n",
      "_________________________________________________________________\n",
      "flatten (Flatten)            (None, 32)                0         \n",
      "_________________________________________________________________\n",
      "dense (Dense)                (None, 128)               4224      \n",
      "=================================================================\n",
      "Total params: 14,368\n",
      "Trainable params: 14,368\n",
      "Non-trainable params: 0\n",
      "_________________________________________________________________\n"
     ]
    }
   ],
   "source": [
    "cnn = Sequential()\n",
    "cnn.add(Convolution2D(32, 3, 3, input_shape = (64, 64, 3), activation = 'relu'))\n",
    "cnn.add(MaxPooling2D(pool_size = (2, 2)))\n",
    "cnn.add(Convolution2D(32, 3, 3, activation = 'relu'))\n",
    "cnn.add(MaxPooling2D(pool_size = (2, 2)))\n",
    "cnn.add(Flatten())\n",
    "cnn.add(Dense(128, activation = 'relu'))\n",
    "cnn.compile(optimizer = 'adam', loss = 'binary_crossentropy', metrics = ['accuracy'])\n",
    "cnn.summary()"
   ]
  },
  {
   "cell_type": "markdown",
   "metadata": {},
   "source": [
    "# Scaling the images\n",
    "\n",
    "For the image dataset you can download various images from web with and without mask and put it in separate folder with name 'with_mask' and 'without_mask'. And then distribute the both images with folders named 'Train' and 'Test' as I mentioned the folders name in code."
   ]
  },
  {
   "cell_type": "code",
   "execution_count": 3,
   "metadata": {},
   "outputs": [
    {
     "name": "stdout",
     "output_type": "stream",
     "text": [
      "Found 3000 images belonging to 2 classes.\n",
      "Found 692 images belonging to 2 classes.\n"
     ]
    }
   ],
   "source": [
    "from keras.preprocessing.image import ImageDataGenerator\n",
    "\n",
    "train = ImageDataGenerator(rescale = 1./255)\n",
    "\n",
    "test = ImageDataGenerator(rescale = 1./255)\n",
    "\n",
    "train = train.flow_from_directory('Train',target_size = (64, 64), batch_size = 32, class_mode = 'binary')\n",
    "\n",
    "test = test.flow_from_directory('Test',target_size = (64, 64),batch_size = 32,class_mode = 'binary')"
   ]
  },
  {
   "cell_type": "markdown",
   "metadata": {},
   "source": [
    "# Apply CNN"
   ]
  },
  {
   "cell_type": "code",
   "execution_count": 4,
   "metadata": {},
   "outputs": [
    {
     "name": "stdout",
     "output_type": "stream",
     "text": [
      "Epoch 1/15\n",
      "94/94 [==============================] - 86s 909ms/step - loss: 0.6879 - accuracy: 0.5421 - val_loss: 0.7927 - val_accuracy: 0.4249\n",
      "Epoch 2/15\n",
      "94/94 [==============================] - 14s 153ms/step - loss: 0.5920 - accuracy: 0.6949 - val_loss: 0.5690 - val_accuracy: 0.7457\n",
      "Epoch 3/15\n",
      "94/94 [==============================] - 14s 151ms/step - loss: 0.4514 - accuracy: 0.7980 - val_loss: 0.5366 - val_accuracy: 0.7688\n",
      "Epoch 4/15\n",
      "94/94 [==============================] - 14s 154ms/step - loss: 0.3632 - accuracy: 0.8358 - val_loss: 0.5483 - val_accuracy: 0.7861\n",
      "Epoch 5/15\n",
      "94/94 [==============================] - 13s 141ms/step - loss: 0.3150 - accuracy: 0.8645 - val_loss: 0.7553 - val_accuracy: 0.6691\n",
      "Epoch 6/15\n",
      "94/94 [==============================] - 14s 145ms/step - loss: 0.2918 - accuracy: 0.8744 - val_loss: 0.5835 - val_accuracy: 0.7746\n",
      "Epoch 7/15\n",
      "94/94 [==============================] - 13s 142ms/step - loss: 0.2916 - accuracy: 0.8833 - val_loss: 0.5565 - val_accuracy: 0.7211\n",
      "Epoch 8/15\n",
      "94/94 [==============================] - 13s 141ms/step - loss: 0.2942 - accuracy: 0.8711 - val_loss: 0.6242 - val_accuracy: 0.7529\n",
      "Epoch 9/15\n",
      "94/94 [==============================] - 14s 147ms/step - loss: 0.2647 - accuracy: 0.8826 - val_loss: 0.5066 - val_accuracy: 0.8121\n",
      "Epoch 10/15\n",
      "94/94 [==============================] - 13s 142ms/step - loss: 0.2195 - accuracy: 0.9141 - val_loss: 0.5480 - val_accuracy: 0.7832\n",
      "Epoch 11/15\n",
      "94/94 [==============================] - 14s 146ms/step - loss: 0.2256 - accuracy: 0.9059 - val_loss: 0.4758 - val_accuracy: 0.7977\n",
      "Epoch 12/15\n",
      "94/94 [==============================] - 14s 154ms/step - loss: 0.2328 - accuracy: 0.8972 - val_loss: 0.5106 - val_accuracy: 0.8064\n",
      "Epoch 13/15\n",
      "94/94 [==============================] - 16s 167ms/step - loss: 0.1989 - accuracy: 0.9216 - val_loss: 0.5603 - val_accuracy: 0.7818\n",
      "Epoch 14/15\n",
      "94/94 [==============================] - 15s 160ms/step - loss: 0.1861 - accuracy: 0.9145 - val_loss: 0.4932 - val_accuracy: 0.8237\n",
      "Epoch 15/15\n",
      "94/94 [==============================] - 15s 158ms/step - loss: 0.1788 - accuracy: 0.9316 - val_loss: 0.5326 - val_accuracy: 0.7934\n"
     ]
    },
    {
     "data": {
      "text/plain": [
       "<tensorflow.python.keras.callbacks.History at 0x21e33dab9a0>"
      ]
     },
     "execution_count": 4,
     "metadata": {},
     "output_type": "execute_result"
    }
   ],
   "source": [
    "cnn.fit_generator(train,epochs = 15,validation_data = test)"
   ]
  },
  {
   "cell_type": "code",
   "execution_count": 5,
   "metadata": {},
   "outputs": [],
   "source": [
    "cnn.save('dummy.model', save_format=\"h5\")"
   ]
  },
  {
   "cell_type": "markdown",
   "metadata": {},
   "source": [
    "# Testing the image"
   ]
  },
  {
   "cell_type": "code",
   "execution_count": 7,
   "metadata": {},
   "outputs": [
    {
     "data": {
      "text/plain": [
       "{'with_mask': 0, 'without_mask': 1}"
      ]
     },
     "execution_count": 7,
     "metadata": {},
     "output_type": "execute_result"
    }
   ],
   "source": [
    "import numpy as np\n",
    "from keras.preprocessing import image\n",
    "image_test = image.load_img('new.jpg', target_size = (64, 64))\n",
    "image_test = image.img_to_array(image_test)\n",
    "image_test = np.expand_dims(image_test, axis = 0)\n",
    "result = cnn.predict(image_test)\n",
    "train.class_indices"
   ]
  },
  {
   "cell_type": "code",
   "execution_count": 9,
   "metadata": {},
   "outputs": [
    {
     "name": "stdout",
     "output_type": "stream",
     "text": [
      "with_mask\n"
     ]
    }
   ],
   "source": [
    "if result[0][0] == 1:\n",
    "    print('without_mask')\n",
    "else:\n",
    "    print('with_mask')"
   ]
  },
  {
   "cell_type": "code",
   "execution_count": null,
   "metadata": {},
   "outputs": [],
   "source": []
  }
 ],
 "metadata": {
  "kernelspec": {
   "display_name": "Python 3",
   "language": "python",
   "name": "python3"
  },
  "language_info": {
   "codemirror_mode": {
    "name": "ipython",
    "version": 3
   },
   "file_extension": ".py",
   "mimetype": "text/x-python",
   "name": "python",
   "nbconvert_exporter": "python",
   "pygments_lexer": "ipython3",
   "version": "3.8.3"
  }
 },
 "nbformat": 4,
 "nbformat_minor": 2
}
